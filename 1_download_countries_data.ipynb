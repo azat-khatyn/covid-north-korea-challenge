{
 "cells": [
  {
   "cell_type": "code",
   "execution_count": 1,
   "metadata": {},
   "outputs": [],
   "source": [
    "import json\n",
    "import requests\n",
    "import copy\n",
    "import pandas as pd"
   ]
  },
  {
   "cell_type": "code",
   "execution_count": 2,
   "metadata": {},
   "outputs": [],
   "source": [
    "abc = [chr(ord('a') + c) for c in range(26)]"
   ]
  },
  {
   "cell_type": "code",
   "execution_count": 3,
   "metadata": {},
   "outputs": [],
   "source": [
    "country_codes = []\n",
    "for l in abc:\n",
    "    for r in abc:\n",
    "        country_codes.append(l+r)"
   ]
  },
  {
   "cell_type": "code",
   "execution_count": 4,
   "metadata": {},
   "outputs": [
    {
     "name": "stdout",
     "output_type": "stream",
     "text": [
      "Could not fetch or decode! [Expecting value: line 1 column 1 (char 0)]\n"
     ]
    }
   ],
   "source": [
    "data_countries = []\n",
    "for code in country_codes:\n",
    "    try:\n",
    "        country = requests.get(\"http://api.worldbank.org/v2/country/%s?format=json\" % code).json()\n",
    "        if len(country) > 1:\n",
    "            data_countries.append(country)\n",
    "    except Exception as exc:\n",
    "        print('Could not fetch or decode! [%s]' % exc)"
   ]
  },
  {
   "cell_type": "code",
   "execution_count": 5,
   "metadata": {},
   "outputs": [],
   "source": [
    "valid_countries = []\n",
    "for e in data_countries:\n",
    "    x = e[1][0]\n",
    "    x['region_id'] = x['region']['id']\n",
    "    x['region_iso2code'] = x['region']['iso2code']\n",
    "    x['region_value'] = x['region']['value']\n",
    "    x['adminregion_id'] = x['adminregion']['id']\n",
    "    x['adminregion_iso2code'] = x['adminregion']['iso2code']\n",
    "    x['adminregion_value'] = x['adminregion']['value']\n",
    "    x['incomeLevel_id'] = x['incomeLevel']['id']\n",
    "    x['incomeLevel_iso2code'] = x['incomeLevel']['iso2code']\n",
    "    x['incomeLevel_value'] = x['incomeLevel']['value']\n",
    "    x['lendingType_id'] = x['lendingType']['id']\n",
    "    x['lendingType_iso2code'] = x['lendingType']['iso2code']\n",
    "    x['lendingType_value'] = x['lendingType']['value']\n",
    "    x.pop('region')\n",
    "    x.pop('adminregion')\n",
    "    x.pop('incomeLevel')\n",
    "    x.pop('lendingType')\n",
    "    valid_countries.append(x)"
   ]
  },
  {
   "cell_type": "code",
   "execution_count": 6,
   "metadata": {},
   "outputs": [],
   "source": [
    "countries_df = pd.DataFrame(valid_countries)"
   ]
  },
  {
   "cell_type": "code",
   "execution_count": 7,
   "metadata": {},
   "outputs": [],
   "source": [
    "countries_df.to_csv('contries_data_from_world_bank.csv', index=False)"
   ]
  }
 ],
 "metadata": {
  "kernelspec": {
   "display_name": "Python 3",
   "language": "python",
   "name": "python3"
  },
  "language_info": {
   "codemirror_mode": {
    "name": "ipython",
    "version": 3
   },
   "file_extension": ".py",
   "mimetype": "text/x-python",
   "name": "python",
   "nbconvert_exporter": "python",
   "pygments_lexer": "ipython3",
   "version": "3.8.0"
  }
 },
 "nbformat": 4,
 "nbformat_minor": 2
}

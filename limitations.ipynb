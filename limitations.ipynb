{
 "cells": [
  {
   "cell_type": "markdown",
   "metadata": {},
   "source": [
    "## Limitations\n",
    "\n",
    "\n",
    "#### Lack of informative features\n",
    "\n",
    "- The main limitation of this project is the lack of features. \n",
    "- KNN was run on a dataset with features covering geographical position, political region (e.g. 'Middle East & North Africa') as well as income level (provided by the World Bank in form of four different categories e.g. 'Low Income Lever', 'Upper Middle Income' etc.)\n",
    "- This can be overcome by adding data like those regarding health-care system (e.g. health expenditure per capita, number of hospitals/beds per capita), population density, life expectancy, more specified income level information etc. (Suitable datasets for that could be those provided by the UN https://data.un.org/ or the OECD https://stats.oecd.org/viewhtml.aspx?datasetcode=SHA&lang=en)\n",
    "\n",
    "\n",
    "##### Additional limitations could be spotted on different steps of the project:\n",
    "\n",
    "#### Loading Data\n",
    "\n",
    "- Data for some countries could not be extracted (e.g. server returned error for India)\n",
    "\n",
    "- Country names in two datasets are not identitcal, which makes the automized search for k nearest neighbors problematic. A mapping function for the two datasets used was implemented, additional mapping would be needed if further datasets were added. \n",
    "\n",
    "- Data containing coronavirus cases are updated daily, meaning this dataset in the project should be updated daily as well. Currently it is done manually.\n",
    "\n",
    "- Countries dataset could be also updated as regularly as the data gets updated in the source by the World Bank.\n",
    "\n",
    "\n",
    "#### Preprocessing Data\n",
    "\n",
    "- Geo-spatial data (e.g. longitude, latitude) might require specific preprocessing.\n",
    "- Income level feature was turned into ordinal. Could be modeled differently.\n",
    "\n",
    "\n",
    "#### Finding KNNs\n",
    "\n",
    "- Countries that were chosen as nearest, can be those not reporting or poorly reporting the coronavirus cases (e.g. Turkmenistan). This could be overcome by introducing a rule defining whether the number of cases reported is 'credible' enough to be taken into consideration while aggregating the estimation.\n",
    "\n",
    "\n",
    "#### Number of confirmed cases estimation\n",
    "\n",
    "- Currently a mean of the k nearest countries is taken to produce an estimation for the requested country. This solution is very prone to outliers. Even one 'neighbor' with an extreme value of number of cases can skew the final estimation significantly. One could calculate the mean value using weighted sum instead (with coeffitients based on some inference about the 'neighbors') or find another aggregating function. \n",
    "\n",
    "\n",
    "#### Web app \n",
    "\n",
    "- Both dataframes that are loaded from csv files in the web application as well as the json names mapping file could be preloaded on the start up. As for now, \"covid-dataset\" as well as nearest countries dataset both get loaded on each http request.\n",
    " "
   ]
  },
  {
   "cell_type": "code",
   "execution_count": null,
   "metadata": {},
   "outputs": [],
   "source": []
  }
 ],
 "metadata": {
  "kernelspec": {
   "display_name": "Python 3",
   "language": "python",
   "name": "python3"
  },
  "language_info": {
   "codemirror_mode": {
    "name": "ipython",
    "version": 3
   },
   "file_extension": ".py",
   "mimetype": "text/x-python",
   "name": "python",
   "nbconvert_exporter": "python",
   "pygments_lexer": "ipython3",
   "version": "3.8.0"
  }
 },
 "nbformat": 4,
 "nbformat_minor": 2
}

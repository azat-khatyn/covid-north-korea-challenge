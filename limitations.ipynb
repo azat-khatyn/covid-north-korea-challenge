{
 "cells": [
  {
   "cell_type": "markdown",
   "metadata": {},
   "source": [
    "#### Limitations \n",
    "\n",
    "- Data for some countries could not be extracted.\n",
    "\n",
    "- Country names in two datasets are not fully identitcal, which makes the automized search for k nearest neighbors problematic. A mapping function containing all the pairs of names would be needed.\n",
    "- Geo-spatial data (longitude, latitude) is a specifique case\n",
    "- Covid data should be updated daily, currently it is done manually\n",
    "- Covid dataset as well as nearest countries dataset both get loaded on each request - can be optimized to be preloaded once\n",
    "- Mapping of country names is adapted to the current nearets countries - needs to be extended to all countries\n",
    "\n",
    "- countries that were chosen as  nearest, can be those not reporting or poorly reporting ()\n",
    "\n"
   ]
  },
  {
   "cell_type": "markdown",
   "metadata": {},
   "source": [
    "- Date format"
   ]
  }
 ],
 "metadata": {
  "kernelspec": {
   "display_name": "Python 3",
   "language": "python",
   "name": "python3"
  },
  "language_info": {
   "codemirror_mode": {
    "name": "ipython",
    "version": 3
   },
   "file_extension": ".py",
   "mimetype": "text/x-python",
   "name": "python",
   "nbconvert_exporter": "python",
   "pygments_lexer": "ipython3",
   "version": "3.8.0"
  }
 },
 "nbformat": 4,
 "nbformat_minor": 2
}
